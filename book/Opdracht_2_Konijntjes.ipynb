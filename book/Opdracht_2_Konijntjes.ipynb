{
  "nbformat": 4,
  "nbformat_minor": 0,
  "metadata": {
    "colab": {
      "provenance": []
    },
    "kernelspec": {
      "name": "python3",
      "display_name": "Python 3"
    },
    "language_info": {
      "name": "python"
    }
  },
  "cells": [
    {
      "cell_type": "markdown",
      "source": [
        "**Inleiding**<br>\n",
        "\n",
        "In de natuurkunde, maar ook in de economie, scheikunde, biologie en psychologie gebruiken we waanzinnig veel modellen. Eigenlijk in iedere wetenschap. We doen dit om in complexe situaties (denk aan de beweging van een sporter, of ons klimaatsysteem) toch een beschrijving te kunnen geven of een voorspelling te kunnen doen. Gelukkig kun je met een simpel model soms een aardige benadering geven van de werkelijkheid. Vaak leer je op die manier meer over de wereld dan als je zou proberen om alle mogelijke variabelen uit te rekenen.\n",
        "\n",
        "**Ons eerste model** <br>\n",
        "Om te leren hoe een model werkt, gaan we deze les een konijnenpopulatie modelleren. Iedereen snapt hoe konijnen zich voortplanten, namelijk snel. Maar echte konijnen zijn nogal ingewikkeld. We gaan het model dus stapje voor stapje opbouwen. Eerst maar eens iets eenvoudigs. Druk op play om te kijken wat er gebeurt."
      ],
      "metadata": {
        "id": "fIDM1cbUcmkX"
      }
    },
    {
      "cell_type": "code",
      "execution_count": null,
      "metadata": {
        "id": "_GZyUybUcl-t"
      },
      "outputs": [],
      "source": [
        "t = 0\n",
        "konijnen = 2 # laten we beginnen met 2 konijnen, voor het gemak een mannetje en een vrouwtje. In de rest van dit model negeren we het geslacht van konijnen, dat is niet belangrijk.\n",
        "\n",
        "while konijnen < 1000: # we stoppen na 1000 konijnen.\n",
        "  konijnen = konijnen + int(konijnen/2) # iedere twee konijnen krijgen ieder jaar een jong erbij. int() gebruiken om alleen hele konijnen te tellen, ze kunnen geen halve baby krijgen\n",
        "  t = t + 1 #de tijd verloopt in jaren\n",
        "  print(konijnen)"
      ]
    },
    {
      "cell_type": "markdown",
      "source": [
        "Zoals je ziet gaat dat best snel met onze konijnen populatie. Nu is zo'n lijst met getallen best indrukwekkend, maar het is veel zinvoller als we de grafiek kunnen zien. Daarvoor schrijven we ieder jaar steeds het aantal konijnen op in een lijst (=tabel) en van die lijst maken we een grafiek. Let maar eens op:\n",
        "\n",
        "\n",
        "\n"
      ],
      "metadata": {
        "id": "V2h1m5PfehI1"
      }
    },
    {
      "cell_type": "code",
      "source": [
        "t = 0\n",
        "konijnen = 2\n",
        "tijd = [] #dit wordt de lijst waarin we het jaartal opslaan\n",
        "aantal = [] #dit wordt de lijst waarin we het aantal konijnen opslaan\n",
        "\n",
        "\n",
        "\n",
        "while konijnen < 1000: # we stoppen na 1000 konijnen.\n",
        "  konijnen = konijnen + int(konijnen/2) # iedere twee konijnen krijgen ieder jaar een jong erbij. int() gebruiken om alleen hele konijnen te tellen, ze kunnen geen halve baby krijgen\n",
        "  t = t + 1 #de tijd verloopt in jaren\n",
        "  tijd.append(t)\n",
        "  aantal.append(konijnen)\n",
        "  print(tijd,aantal)"
      ],
      "metadata": {
        "id": "d17MPAMwffWM"
      },
      "execution_count": null,
      "outputs": []
    },
    {
      "cell_type": "markdown",
      "source": [
        "Yikes, leuk zo'n tabel maar overzichtelijker wordt het er niet op. Snel een grafiek ervan tekenen!"
      ],
      "metadata": {
        "id": "cZapRqu0f5wL"
      }
    },
    {
      "cell_type": "code",
      "source": [
        "from matplotlib import pyplot as plt #we halen even een bibliotheek op (net als bij Arduino) die helpt bij het tekenen van grafieken\n",
        "plt.plot(tijd,aantal)\n",
        "plt.xlabel(\"tijd (jaar)\")\n",
        "plt.ylabel(\"aantal konijnen\")"
      ],
      "metadata": {
        "id": "_4M1CvQIgAtI"
      },
      "execution_count": null,
      "outputs": []
    },
    {
      "cell_type": "markdown",
      "source": [
        "Dat ziet er beter uit! Ons hele model ziet er nu als volgt uit:\n",
        "\n",
        "\n",
        "```\n",
        "from matplotlib import pyplot as plt\n",
        "t = 0\n",
        "konijnen = 2\n",
        "tijd = []\n",
        "aantal = []\n",
        "\n",
        "while konijnen < 1000:\n",
        "  konijnen = konijnen + int(konijnen/2)\n",
        "  t = t + 1\n",
        "  tijd.append(t)\n",
        "  aantal.append(konijnen)\n",
        "\n",
        "plt.plot(tijd,aantal)\n",
        "plt.xlabel(\"tijd(jaar)\")\n",
        "plt.ylabel(\"aantal konijnen\")\n",
        "```\n",
        "\n",
        "Dat viel best mee toch? Let op dat de volgorde van sommige stukken veranderd is als we de hele code in één keer opschrijven. In het begin schrijven we op welke bibliotheken we gebruiken en wat de startwaarden zijn. Daarna schrijven we \"while-loop\" die verteld tot waar het model de aantallen moet uitrekenen. Zodra het model klaar is met rekenen, tekenen we de grafiek.\n",
        "\n"
      ],
      "metadata": {
        "id": "VkjZa7cXgpva"
      }
    },
    {
      "cell_type": "code",
      "source": [
        "#copy paste het complete model hieronder en kijk eens wat er gebeurt als je de diverse waarden aanpast."
      ],
      "metadata": {
        "id": "QQp217FPgc-0"
      },
      "execution_count": null,
      "outputs": []
    },
    {
      "cell_type": "markdown",
      "source": [
        "**Iets realistischer**<bn>\n",
        "\n",
        "We hebben gezien dat konijnen snel in aantal vermeerderen, maar realistisch is dit nauwelijks. We gaan het model stap voor stap steeds realistischer maken. Laten we eens voedsel toevoegen. Gras groeit ieder jaar weer terug, maar de totale hoeveelheid is beperkt. Als er geen voedsel meer is, gaan er konijntjes dood. Zielig!"
      ],
      "metadata": {
        "id": "4J2rO-DSiC8d"
      }
    },
    {
      "cell_type": "code",
      "source": [
        "from matplotlib import pyplot as plt\n",
        "t = 0\n",
        "konijnen = 2\n",
        "voedsel = 1000\n",
        "tijd = []\n",
        "aantal = []\n",
        "\n",
        "while t < 50: #we willen nu 50 jaar lang de populatie volgen\n",
        "  konijnen = konijnen + int(konijnen/2)\n",
        "  voedsel = voedsel + 200 #dit is hoeveelheid die jaarlijks groeit\n",
        "  voedsel = voedsel - konijnen #dit is wat de konijnen opeten\n",
        "  if voedsel < 0:\n",
        "    konijnen = konijnen / 2 #de helft gaat dood, dit kan natuurlijk realistischer! Pas maar aan!\n",
        "  t = t + 1\n",
        "  tijd.append(t)\n",
        "  aantal.append(konijnen)\n",
        "  print(konijnen,voedsel) # het helpt om ook de getallen te zien, zodat je de grafiek beter begrijpt\n",
        "\n",
        "plt.plot(tijd,aantal)\n",
        "plt.xlabel(\"tijd(jaar)\")\n",
        "plt.ylabel(\"aantal konijnen\")\n"
      ],
      "metadata": {
        "id": "Murq4NX7icSz"
      },
      "execution_count": null,
      "outputs": []
    },
    {
      "cell_type": "markdown",
      "source": [
        "Met de waardes die ik gebruikt heb, zal je zien dat de hele populatie uitsterft. Als er namelijk minder dan 2 konijnen zijn, dan kan de populatie zich niet herstellen van een hongersnood. Tegelijk kan de hoeveelheid voedsel natuurlijk nooit echt zo negatief worden. Voeg deze regel maar eens toe bij de \"if-statement\":\n",
        "\n",
        "\n",
        "```\n",
        "if voedsel < 0:\n",
        "  voedsel = 0\n",
        "  konijnen = konijnen / 2\n",
        "```\n"
      ],
      "metadata": {
        "id": "uzA_9OTBknqP"
      }
    },
    {
      "cell_type": "markdown",
      "source": [
        "Dit ene regeltje zorgt ervoor dat ons model er opeens een stuk realistischer uitziet. Nu moet je echt zelf aan de gang! Twee mogelijkheden:\n",
        "\n",
        "\n",
        "\n",
        "1.   Voeg sterfte toe als konijnen een bepaalde leeftijd hebben bereikt. Alle konijnen die bijvoorbeeld 15 jaar oud zijn, gaan dood.\n",
        "2.   Voeg vossen toe, die zich ook vermeerderen. Ieder jaar eet een vos 1 konijn (of 5 of 15 of wat dan ook een realistisch antwoord geeft)\n",
        "\n"
      ],
      "metadata": {
        "id": "JFJAOTW-lSZ9"
      }
    },
    {
      "cell_type": "code",
      "source": [
        "# maak hier je model"
      ],
      "metadata": {
        "id": "qrOa5PTdmsmE"
      },
      "execution_count": null,
      "outputs": []
    }
  ]
}